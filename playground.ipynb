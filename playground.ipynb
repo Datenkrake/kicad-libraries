{
 "cells": [
  {
   "cell_type": "code",
   "execution_count": 46,
   "metadata": {},
   "outputs": [],
   "source": [
    "# read cache.sqlite3 using SQLModel\n",
    "from sqlmodel import SQLModel, Session, select, create_engine\n",
    "import sqlite3\n",
    "import pprint as pp\n",
    "import json\n"
   ]
  },
  {
   "cell_type": "code",
   "execution_count": 27,
   "metadata": {},
   "outputs": [],
   "source": [
    "# # get table names using sqlite3\n",
    "# con = sqlite3.connect(\"cache.sqlite3\")\n",
    "# cursor = con.cursor()\n",
    "# cursor.execute(\"SELECT name FROM sqlite_master WHERE type='table';\")\n",
    "# result = cursor.fetchall()\n",
    "# # pretty print\n",
    "# pp.pprint(result)"
   ]
  },
  {
   "cell_type": "code",
   "execution_count": 28,
   "metadata": {},
   "outputs": [],
   "source": [
    "# # get column names using sqlite3 for each table in cache.sqlite3\n",
    "# columns = []\n",
    "# for table in result:\n",
    "#     cursor.execute(f\"PRAGMA table_info({table[0]})\")\n",
    "#     # store column names in list\n",
    "#     columns.append(cursor.fetchall())\n",
    "#     pp.pprint(cursor.fetchall())\n",
    "\n"
   ]
  },
  {
   "cell_type": "code",
   "execution_count": 54,
   "metadata": {},
   "outputs": [
    {
     "name": "stdout",
     "output_type": "stream",
     "text": [
      "{'basic': 1,\n",
      " 'category_id': 1,\n",
      " 'datasheet': 'https://datasheet.lcsc.com/lcsc/2109180930_Sunlord-GZ1608D601TF_C1002.pdf',\n",
      " 'description': '450mΩ ±25% 600Ω@100MHz 0603  Ferrite Beads ROHS',\n",
      " 'extra': '{\"id\": 1354, \"number\": \"C1002\", \"category\": {\"id1\": 10991, \"id2\": '\n",
      "          '527, \"name1\": \"Bead/Filter/EMI Optimization\", \"name2\": \"Ferrite '\n",
      "          'Beads\"}, \"manufacturer\": {\"id\": 270, \"name\": \"Sunlord\"}, \"package\": '\n",
      "          '\"0603\", \"title\": \"Sunlord GZ1608D601TF\", \"mpn\": \"GZ1608D601TF\", '\n",
      "          '\"quantity\": 264054, \"quantity1\": 218454, \"quantity3\": 45600, \"moq\": '\n",
      "          '1, \"order_multiple\": 100, \"packaging\": \"Tape & Reel (TR)\", '\n",
      "          '\"packaging_num\": 4000, \"prices\": [{\"min_qty\": 100, \"max_qty\": 999, '\n",
      "          '\"currency\": \"USD\", \"price\": 0.0048}, {\"min_qty\": 1000, \"max_qty\": '\n",
      "          '3999, \"currency\": \"USD\", \"price\": 0.0039}, {\"min_qty\": 4000, '\n",
      "          '\"max_qty\": 7999, \"currency\": \"USD\", \"price\": 0.0034}, {\"min_qty\": '\n",
      "          '8000, \"max_qty\": 47999, \"currency\": \"USD\", \"price\": 0.0031}, '\n",
      "          '{\"min_qty\": 48000, \"max_qty\": 99999, \"currency\": \"USD\", \"price\": '\n",
      "          '0.0028}, {\"min_qty\": 100000, \"max_qty\": 9999999, \"currency\": \"USD\", '\n",
      "          '\"price\": 0.0027}], \"datasheet\": {\"pdf\": '\n",
      "          '\"https://datasheet.lcsc.com/lcsc/2109180930_Sunlord-GZ1608D601TF_C1002.pdf\"}, '\n",
      "          '\"images\": [{\"96x96\": '\n",
      "          '\"https://assets.lcsc.com/images/lcsc/96x96/20230331_Sunlord-GZ1608D601TF_C1002_front.jpg\", '\n",
      "          '\"224x224\": '\n",
      "          '\"https://assets.lcsc.com/images/lcsc/224x224/20230331_Sunlord-GZ1608D601TF_C1002_front.jpg\", '\n",
      "          '\"900x900\": '\n",
      "          '\"https://assets.lcsc.com/images/lcsc/900x900/20230331_Sunlord-GZ1608D601TF_C1002_front.jpg\"}, '\n",
      "          '{\"96x96\": '\n",
      "          '\"https://assets.lcsc.com/images/lcsc/96x96/20230331_Sunlord-GZ1608D601TF_C1002_back.jpg\", '\n",
      "          '\"224x224\": '\n",
      "          '\"https://assets.lcsc.com/images/lcsc/224x224/20230331_Sunlord-GZ1608D601TF_C1002_back.jpg\", '\n",
      "          '\"900x900\": '\n",
      "          '\"https://assets.lcsc.com/images/lcsc/900x900/20230331_Sunlord-GZ1608D601TF_C1002_back.jpg\"}, '\n",
      "          '{\"96x96\": '\n",
      "          '\"https://assets.lcsc.com/images/lcsc/96x96/20230331_Sunlord-GZ1608D601TF_C1002_blank.jpg\", '\n",
      "          '\"224x224\": '\n",
      "          '\"https://assets.lcsc.com/images/lcsc/224x224/20230331_Sunlord-GZ1608D601TF_C1002_blank.jpg\", '\n",
      "          '\"900x900\": '\n",
      "          '\"https://assets.lcsc.com/images/lcsc/900x900/20230331_Sunlord-GZ1608D601TF_C1002_blank.jpg\"}], '\n",
      "          '\"rohs\": true, \"attributes\": {\"DC Resistance\": \"450m\\\\u03a9\", '\n",
      "          '\"Impedance @ Frequency\": \"600\\\\u03a9@100MHz\", \"Circuits\": \"1\", '\n",
      "          '\"Current Rating\": \"200mA\", \"Tolerance\": \"\\\\u00b125%\"}, '\n",
      "          '\"description\": \"450m\\\\u03a9 \\\\u00b125% 600\\\\u03a9@100MHz 0603  '\n",
      "          'Ferrite Beads ROHS\", \"url\": '\n",
      "          '\"https://lcsc.com/product-detail/Ferrite-Beads_Sunlord-Sunlord-GZ1608D601TF_C1002.html\"}',\n",
      " 'flag': 1,\n",
      " 'joints': 2,\n",
      " 'last_on_stock': 1699415556,\n",
      " 'last_update': 1682999876,\n",
      " 'lcsc': 1002,\n",
      " 'manufacturer_id': 1,\n",
      " 'mfr': 'GZ1608D601TF',\n",
      " 'package': '0603',\n",
      " 'price': '[{\"qFrom\": 20, \"qTo\": 180, \"price\": 0.004239437}, {\"qFrom\": 200, '\n",
      "          '\"qTo\": 780, \"price\": 0.00343662}, {\"qFrom\": 800, \"qTo\": 1580, '\n",
      "          '\"price\": 0.003}, {\"qFrom\": 1600, \"qTo\": 9580, \"price\": '\n",
      "          '0.002732394}, {\"qFrom\": 9600, \"qTo\": 19980, \"price\": 0.002507042}, '\n",
      "          '{\"qFrom\": 20000, \"qTo\": null, \"price\": 0.002380282}]',\n",
      " 'stock': 262915}\n"
     ]
    }
   ],
   "source": [
    "con = sqlite3.connect(\"cache.sqlite3\")\n",
    "cursor = con.cursor()\n",
    "cursor.execute(f\"PRAGMA table_info(components)\")\n",
    "columns = cursor.fetchall()\n",
    "statement = f\"SELECT * FROM components WHERE lcsc = '{1002}'\"\n",
    "cursor.execute(statement)\n",
    "values = cursor.fetchall()\n",
    "# build a dictionary from the result of the query above and the column names in columns\n",
    "result = [dict(zip([column[1] for column in columns], value)) for value in values]\n",
    "\n",
    "pp.pprint(result[0])"
   ]
  },
  {
   "cell_type": "code",
   "execution_count": 61,
   "metadata": {},
   "outputs": [
    {
     "data": {
      "text/plain": [
       "'Bead/Filter/EMI Optimization'"
      ]
     },
     "execution_count": 61,
     "metadata": {},
     "output_type": "execute_result"
    }
   ],
   "source": [
    "extra = json.loads(result[0][\"extra\"])\n",
    "extra[\"category\"][\"name1\"]"
   ]
  },
  {
   "cell_type": "code",
   "execution_count": 59,
   "metadata": {},
   "outputs": [
    {
     "data": {
      "text/plain": [
       "'https://datasheet.lcsc.com/lcsc/2109180930_Sunlord-GZ1608D601TF_C1002.pdf'"
      ]
     },
     "execution_count": 59,
     "metadata": {},
     "output_type": "execute_result"
    }
   ],
   "source": [
    "result[0][\"datasheet\"]"
   ]
  },
  {
   "cell_type": "code",
   "execution_count": 64,
   "metadata": {},
   "outputs": [
    {
     "data": {
      "text/plain": [
       "0.0048"
      ]
     },
     "execution_count": 64,
     "metadata": {},
     "output_type": "execute_result"
    }
   ],
   "source": [
    "extra[\"prices\"][0][\"price\"]"
   ]
  },
  {
   "cell_type": "code",
   "execution_count": null,
   "metadata": {},
   "outputs": [],
   "source": []
  }
 ],
 "metadata": {
  "kernelspec": {
   "display_name": "temp",
   "language": "python",
   "name": "python3"
  },
  "language_info": {
   "codemirror_mode": {
    "name": "ipython",
    "version": 3
   },
   "file_extension": ".py",
   "mimetype": "text/x-python",
   "name": "python",
   "nbconvert_exporter": "python",
   "pygments_lexer": "ipython3",
   "version": "3.10.13"
  }
 },
 "nbformat": 4,
 "nbformat_minor": 2
}
